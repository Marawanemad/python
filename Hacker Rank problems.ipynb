{
 "cells": [
  {
   "cell_type": "code",
   "execution_count": 30,
   "metadata": {
    "scrolled": true
   },
   "outputs": [
    {
     "name": "stdout",
     "output_type": "stream",
     "text": [
      "1\n",
      "1\n",
      "1\n",
      "2\n",
      "[[0, 0, 0], [0, 0, 1], [0, 1, 0], [1, 0, 0], [1, 1, 1]]\n",
      "__________________________________________________________\n",
      "\n",
      "[[0, 0, 0], [0, 0, 1], [0, 1, 0], [1, 0, 0], [1, 1, 1]]\n"
     ]
    }
   ],
   "source": [
    "# List Comprehensions and put result in array by two ways\n",
    "X = int(input())\n",
    "Y = int(input())\n",
    "Z = int(input())\n",
    "N = int(input())\n",
    "# first way \n",
    "ans = [[i, j, k] for i in range(X + 1) for j in range(Y + 1) for k in range(Z + 1) if i + j + k != N]\n",
    "print(ans)\n",
    "\n",
    "#\n",
    "print('__________________________________________________________\\n')\n",
    "# \n",
    "\n",
    "# second way\n",
    "t=[]\n",
    "for i in range(x+1):\n",
    "    for j in range(y+1):\n",
    "        for k in range(z+1):\n",
    "            if (i+k+j)!=n:\n",
    "                t.append([i,j,k])\n",
    "print(t)       "
   ]
  },
  {
   "cell_type": "code",
   "execution_count": 13,
   "metadata": {},
   "outputs": [
    {
     "name": "stdout",
     "output_type": "stream",
     "text": [
      "5\n",
      "1\n",
      "2\n",
      "5\n",
      "6\n",
      "6\n",
      "5\n"
     ]
    }
   ],
   "source": [
    "arr = []\n",
    "n = int(input())\n",
    "mav_v=0\n",
    "for i in range(n):\n",
    "    arr.append(input())\n",
    "arr.sort()    \n",
    "for j in range(len(arr)-1):\n",
    "    if arr[j]<arr[j+1]:\n",
    "        max_v = arr[j+1]\n",
    "        min_v = arr[j]   \n",
    "print(min_v)        "
   ]
  },
  {
   "cell_type": "code",
   "execution_count": 2,
   "metadata": {},
   "outputs": [
    {
     "name": "stdout",
     "output_type": "stream",
     "text": [
      "512 5 6 0\n",
      "[0, 5, 6, 512]\n",
      "6\n"
     ]
    }
   ],
   "source": [
    "# take numbers as string and store in list\n",
    "arr = (input().split())\n",
    "v=-1\n",
    "ar=[]\n",
    "# store string as intgers in new list\n",
    "for i in arr:\n",
    "    ar.append(int(i))\n",
    "ar.sort()\n",
    "print(ar)\n",
    "# check the second big value in list\n",
    "while  True:\n",
    "    if ar[v]>ar[v-1]:\n",
    "        val = ar[v-1]\n",
    "        break\n",
    "    else:\n",
    "        v-=1\n",
    "print(int(val))"
   ]
  },
  {
   "cell_type": "code",
   "execution_count": 38,
   "metadata": {},
   "outputs": [
    {
     "name": "stdout",
     "output_type": "stream",
     "text": [
      "4\n",
      "kjm.km.m,.nnkj,njbbjmbjmj,,\n",
      "m.,\n",
      ",,,,\n",
      "llllllllllllllllllllllll\n",
      "k25,\n",
      "m.,\n",
      ",,,,\n",
      "l22l\n"
     ]
    }
   ],
   "source": [
    "word = []\n",
    "n = int(input())\n",
    "for i in range(n):\n",
    "    word.append(input())\n",
    "for i in word:\n",
    "    if len(i)<11:\n",
    "        print(i)\n",
    "    else:\n",
    "        num=len(i)-2\n",
    "        print(i[0]+str(num)+i[-1])"
   ]
  },
  {
   "cell_type": "code",
   "execution_count": 36,
   "metadata": {},
   "outputs": [
    {
     "name": "stdout",
     "output_type": "stream",
     "text": [
      "3\n",
      "Krishna 67 68 69\n",
      "Arjun 70 98 63\n",
      "Malika 52 56 60\n",
      "Malika\n",
      "56.00\n"
     ]
    }
   ],
   "source": [
    "# to check the average of student marks\n",
    "\n",
    "# function to give average\n",
    "def average(x):\n",
    "    sum=0\n",
    "    for i in x:\n",
    "        sum +=i\n",
    "    return double(sum/3)   \n",
    "# to input numbers of students\n",
    "n = int(input())\n",
    "student_marks = {}\n",
    "# to put students data\n",
    "for _ in range(n):\n",
    "    name, *line = input().split()\n",
    "    scores = list(map(float, line))\n",
    "    student_marks[name] = scores\n",
    "query_name = input()\n",
    "# to call function and give it student marks\n",
    "ave = average(student_marks[query_name])\n",
    "# to print average with two decimal points\n",
    "print(\"%.2f\"%ave)"
   ]
  },
  {
   "cell_type": "code",
   "execution_count": 1,
   "metadata": {},
   "outputs": [
    {
     "name": "stdout",
     "output_type": "stream",
     "text": [
      "7 21\n",
      "---------.|.---------\n",
      "------.|..|..|.------\n",
      "---.|..|..|..|..|.---\n",
      "-------WELCOME-------\n",
      "---.|..|..|..|..|.---\n",
      "------.|..|..|.------\n",
      "---------.|.---------\n"
     ]
    }
   ],
   "source": [
    "# to design door mat\n",
    "# take width and lingth as input\n",
    "N,M = map(int,input().split())\n",
    "# for loop to draw the upper side\n",
    "for i in range(1, N, 2):\n",
    "    print(str('.|.' * i).center(M, '-'))\n",
    "# to design the middle and center function to draw - before and after welcome in m length \n",
    "print('WELCOME'.center(M, '-'))\n",
    "# to draw the down side\n",
    "for i in range(N-2, -1, -2):\n",
    "    print(str('.|.' * i).center(M, '-'))"
   ]
  },
  {
   "cell_type": "code",
   "execution_count": 30,
   "metadata": {
    "scrolled": true
   },
   "outputs": [
    {
     "name": "stdout",
     "output_type": "stream",
     "text": [
      "hello world\n",
      "Hello World\n",
      "_____________________________________________________________________\n",
      "Hello World\n"
     ]
    }
   ],
   "source": [
    "# to return the first letter in each word capital and other words small\n",
    "string = input()\n",
    "capitalize = string.title()\n",
    "print(capitalize)\n",
    "\n",
    "print(\"_____________________________________________________________________\")\n",
    "\n",
    "# or\n",
    "s = string\n",
    "for i in s.split():\n",
    "    s = s.replace(i,i.capitalize())\n",
    "print(s)    "
   ]
  },
  {
   "cell_type": "code",
   "execution_count": null,
   "metadata": {},
   "outputs": [],
   "source": []
  },
  {
   "cell_type": "code",
   "execution_count": null,
   "metadata": {},
   "outputs": [],
   "source": []
  }
 ],
 "metadata": {
  "kernelspec": {
   "display_name": "Python 3",
   "language": "python",
   "name": "python3"
  },
  "language_info": {
   "codemirror_mode": {
    "name": "ipython",
    "version": 3
   },
   "file_extension": ".py",
   "mimetype": "text/x-python",
   "name": "python",
   "nbconvert_exporter": "python",
   "pygments_lexer": "ipython3",
   "version": "3.8.5"
  }
 },
 "nbformat": 4,
 "nbformat_minor": 4
}
