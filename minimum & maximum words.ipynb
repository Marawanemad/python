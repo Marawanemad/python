{
 "cells": [
  {
   "cell_type": "code",
   "execution_count": null,
   "metadata": {},
   "outputs": [],
   "source": [
    "# turn strings to list and know the tallest and shortest word\n",
    "txt = input(\"Enter the words : \")\n",
    "data = txt.split()\n",
    "maximum = ''\n",
    "minimum = ''\n",
    "for i in data:\n",
    "    if len(i)>len(maximum):\n",
    "        maximum = i\n",
    "    else:\n",
    "        minimum = i\n",
    "print(\"shortest word is : \"+maximum)        \n",
    "print(\"longest word is : \"+minimum)        \n"
   ]
  }
 ],
 "metadata": {
  "kernelspec": {
   "display_name": "Python 3",
   "language": "python",
   "name": "python3"
  },
  "language_info": {
   "codemirror_mode": {
    "name": "ipython",
    "version": 3
   },
   "file_extension": ".py",
   "mimetype": "text/x-python",
   "name": "python",
   "nbconvert_exporter": "python",
   "pygments_lexer": "ipython3",
   "version": "3.8.5"
  }
 },
 "nbformat": 4,
 "nbformat_minor": 4
}
