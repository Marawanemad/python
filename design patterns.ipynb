{
 "cells": [
  {
   "cell_type": "code",
   "execution_count": 22,
   "metadata": {},
   "outputs": [
    {
     "name": "stdout",
     "output_type": "stream",
     "text": [
      "Enter number of rows: 6\n",
      "*\n",
      "**\n",
      "***\n",
      "****\n",
      "*****\n",
      "******\n",
      "       \n",
      "      *\n",
      "     **\n",
      "    ***\n",
      "   ****\n",
      "  *****\n",
      " ******\n"
     ]
    }
   ],
   "source": [
    "# orthognal triangle \n",
    "n = int(input(\"Enter number of rows: \"))\n",
    "for i in range(1,n+1):\n",
    "    print(\"*\"*i)     \n",
    "i=0    \n",
    "for j in range(n,-1,-1):\n",
    "    print(\" \"*j,\"*\"*i)\n",
    "    i+=1"
   ]
  },
  {
   "cell_type": "code",
   "execution_count": 27,
   "metadata": {},
   "outputs": [
    {
     "name": "stdout",
     "output_type": "stream",
     "text": [
      "Enter number of rows: 6\n",
      "******\n",
      "*****\n",
      "****\n",
      "***\n",
      "**\n",
      "*\n",
      "\n",
      " ******\n",
      "  *****\n",
      "   ****\n",
      "    ***\n",
      "     **\n",
      "      *\n",
      "       \n"
     ]
    }
   ],
   "source": [
    "# inverse orthognal triangle\n",
    "n = int(input(\"Enter number of rows: \"))\n",
    "for i in range(n,-1,-1):\n",
    "    print(\"*\"*i)\n",
    "i=0    \n",
    "for j in range(n,-1,-1):\n",
    "    print(\" \"*i,\"*\"*j)\n",
    "    i+=1    "
   ]
  },
  {
   "cell_type": "code",
   "execution_count": 192,
   "metadata": {},
   "outputs": [
    {
     "name": "stdout",
     "output_type": "stream",
     "text": [
      "Enter length of square:10\n",
      "* * * * * * * * * * \n",
      "* * * * * * * * * * \n",
      "* * * * * * * * * * \n",
      "* * * * * * * * * * \n",
      "* * * * * * * * * * \n",
      "* * * * * * * * * * \n",
      "* * * * * * * * * * \n",
      "* * * * * * * * * * \n",
      "* * * * * * * * * * \n",
      "* * * * * * * * * * \n",
      "\n",
      "\n",
      "* * * * * * * * * * \n",
      "*                 * \n",
      "*                 * \n",
      "*                 * \n",
      "*                 * \n",
      "*                 * \n",
      "*                 * \n",
      "*                 * \n",
      "*                 * \n",
      "* * * * * * * * * * \n"
     ]
    }
   ],
   "source": [
    "# square\n",
    "n = int(input(\"Enter length of square:\"))\n",
    "for i in range(1,n+1):\n",
    "    print(\"* \"*n)\n",
    "print(\"\\n\")\n",
    "for i in range(n):\n",
    "    for j in range(n):\n",
    "# print * completely in first and last row\n",
    "# print * only in first and last position in other rows\n",
    "        if i == 0 or i == n - 1 or j == 0 or j == n - 1:\n",
    "            print('* ', end='')\n",
    "        else:\n",
    "            print('  ', end='')\n",
    "    print()   "
   ]
  },
  {
   "cell_type": "code",
   "execution_count": 187,
   "metadata": {},
   "outputs": [
    {
     "name": "stdout",
     "output_type": "stream",
     "text": [
      "Enter number of raws:5\n",
      "     *\n",
      "    ***\n",
      "   *****\n",
      "  *******\n",
      " *********\n",
      " *********\n",
      "  *******\n",
      "   *****\n",
      "    ***\n",
      "     *\n"
     ]
    }
   ],
   "source": [
    "# pyramid\n",
    "n = int(input(\"Enter number of raws:\"))\n",
    "\n",
    "for i in range(n):\n",
    "    for j in range(n - i):\n",
    "        print(' ', end='')\n",
    "    for k in range(2 *i + 1):\n",
    "        print('*', end='')\n",
    "    print()\n",
    "\n",
    "# inverse pyramid\n",
    "for i in range(n-1,-1,-1):\n",
    "    for j in range(n - i):\n",
    "        print(' ', end='')\n",
    "    for k in range(2 * i + 1):\n",
    "        print('*', end='')\n",
    "    print()\n"
   ]
  },
  {
   "cell_type": "code",
   "execution_count": null,
   "metadata": {},
   "outputs": [],
   "source": []
  }
 ],
 "metadata": {
  "kernelspec": {
   "display_name": "Python 3",
   "language": "python",
   "name": "python3"
  },
  "language_info": {
   "codemirror_mode": {
    "name": "ipython",
    "version": 3
   },
   "file_extension": ".py",
   "mimetype": "text/x-python",
   "name": "python",
   "nbconvert_exporter": "python",
   "pygments_lexer": "ipython3",
   "version": "3.8.5"
  }
 },
 "nbformat": 4,
 "nbformat_minor": 4
}
